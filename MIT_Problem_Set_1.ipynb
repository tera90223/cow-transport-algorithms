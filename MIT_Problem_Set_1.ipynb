{
  "nbformat": 4,
  "nbformat_minor": 0,
  "metadata": {
    "colab": {
      "provenance": [],
      "mount_file_id": "1swSKcseD23VBsqzY1OWwZK0N-U2EkNR3",
      "authorship_tag": "ABX9TyPezDhM3pJOxvpf0wnkGoDu",
      "include_colab_link": true
    },
    "kernelspec": {
      "name": "python3",
      "display_name": "Python 3"
    },
    "language_info": {
      "name": "python"
    }
  },
  "cells": [
    {
      "cell_type": "markdown",
      "metadata": {
        "id": "view-in-github",
        "colab_type": "text"
      },
      "source": [
        "<a href=\"https://colab.research.google.com/github/tera90223/cow-transport-algorithms/blob/main/MIT_Problem_Set_1.ipynb\" target=\"_parent\"><img src=\"https://colab.research.google.com/assets/colab-badge.svg\" alt=\"Open In Colab\"/></a>"
      ]
    },
    {
      "cell_type": "markdown",
      "source": [
        "# Problem Set 1a: Space Cows\n",
        "Write your own Greedy Algorithm and Brute Force Algorithm and compare their performance."
      ],
      "metadata": {
        "id": "AapfC7v9W6Dv"
      }
    },
    {
      "cell_type": "code",
      "source": [
        "# Mount Google Drive to access problem set\n",
        "from google.colab import drive\n",
        "drive.mount('/content/drive')"
      ],
      "metadata": {
        "colab": {
          "base_uri": "https://localhost:8080/"
        },
        "id": "3w_396-fbENm",
        "outputId": "7cb43782-f6e6-4449-e4cf-3836f8cc23d6"
      },
      "execution_count": 2,
      "outputs": [
        {
          "output_type": "stream",
          "name": "stdout",
          "text": [
            "Drive already mounted at /content/drive; to attempt to forcibly remount, call drive.mount(\"/content/drive\", force_remount=True).\n"
          ]
        }
      ]
    },
    {
      "cell_type": "markdown",
      "source": [
        "## Load Cows"
      ],
      "metadata": {
        "id": "kvefzC79BX2D"
      }
    },
    {
      "cell_type": "code",
      "source": [
        "###########################\n",
        "# 6.0002 Problem Set 1a: Space Cows\n",
        "# Name: Chantera Lazard\n",
        "# Time: 4 hours\n",
        "\n",
        "import time\n",
        "\n",
        "#================================\n",
        "# Part A: Transporting Space Cows\n",
        "#================================\n",
        "\n",
        "# Problem 1\n",
        "def load_cows(filename):\n",
        "    \"\"\"\n",
        "    Read the contents of the given file.  Assumes the file contents contain\n",
        "    data in the form of comma-separated cow name, weight pairs, and return a\n",
        "    dictionary containing cow names as keys and corresponding weights as values.\n",
        "\n",
        "    Parameters:\n",
        "    filename - the name of the data file as a string\n",
        "\n",
        "    Returns:\n",
        "    a dictionary of cow name (string), weight (int) pairs\n",
        "    \"\"\"\n",
        "    # Intialize a dictionary\n",
        "    cow_dict = {}\n",
        "    with open(filename) as input_fh:\n",
        "      # Read each line from file (x,y)\n",
        "      data = input_fh.readlines()\n",
        "\n",
        "      for line in data:\n",
        "        # Split name from weight\n",
        "        line = line.split(',')\n",
        "        # Create dictionary with the key being the cow's name &\n",
        "        # the weight being the value\n",
        "        cow_dict[line[0]] = int(line[-1].rstrip())\n",
        "    return cow_dict"
      ],
      "metadata": {
        "id": "wJcZaAixbyFo"
      },
      "execution_count": 37,
      "outputs": []
    },
    {
      "cell_type": "markdown",
      "source": [
        "## Greedy Algorithm"
      ],
      "metadata": {
        "id": "bqQzDKi-BjqD"
      }
    },
    {
      "cell_type": "code",
      "source": [
        "# Problem 2\n",
        "def greedy_cow_transport(cows,limit=10):\n",
        "    \"\"\"\n",
        "    Uses a greedy heuristic to determine an allocation of cows that attempts to\n",
        "    minimize the number of spaceship trips needed to transport all the cows. The\n",
        "    returned allocation of cows may or may not be optimal.\n",
        "    The greedy heuristic should follow the following method:\n",
        "\n",
        "    1. As long as the current trip can fit another cow, add the largest cow that will fit\n",
        "        to the trip\n",
        "    2. Once the trip is full, begin a new trip to transport the remaining cows\n",
        "\n",
        "    Does not mutate the given dictionary of cows.\n",
        "\n",
        "    Parameters:\n",
        "    cows - a dictionary of name (string), weight (int) pairs\n",
        "    limit - weight limit of the spaceship (an int)\n",
        "\n",
        "    Returns:\n",
        "    A list of lists, with each inner list containing the names of cows\n",
        "    transported on a particular trip and the overall list containing all the\n",
        "    trips\n",
        "    \"\"\"\n",
        "    # Sort the cows dictionary by value (weight) in descending order\n",
        "    sorted_cows = dict(sorted(cows.items(),\n",
        "                              key=lambda item: item[1], reverse=True))\n",
        "\n",
        "    all_trips = []  #list of lists to hold all trips\n",
        "    used_names = set() #set to keep track of cows already on a trip\n",
        "\n",
        "    #Iterate through each cow in the sorted list\n",
        "    for name,weight in sorted_cows.items():\n",
        "      #validation to make sure not to parse over a cow that is already on a trip\n",
        "      if name in used_names:\n",
        "        continue\n",
        "      else:\n",
        "        trip = [name] # Start a new trip with this cow\n",
        "        trip_weight = weight  # Initialize the current trip's weight\n",
        "        used_names.add(name)  # Mark this cow as on trip\n",
        "\n",
        "      # Parse through other cows to attempt to add them on current trip\n",
        "      for name2,weight2 in sorted_cows.items():\n",
        "        # Only consider unused cows that do not exceed the total weight limit\n",
        "        if name2 not in used_names and trip_weight + weight2 <=limit:\n",
        "          trip.append(name2)  # Add cow to current trip\n",
        "          trip_weight += weight2  # Update total weight\n",
        "          used_names.add(name2) # Mark this cow as on trip\n",
        "\n",
        "      all_trips.append(trip)  # Save the completed trip in list of lists\n",
        "\n",
        "    return all_trips # Return list of lists of all trips"
      ],
      "metadata": {
        "id": "tNbt-SZ9hZpX"
      },
      "execution_count": 30,
      "outputs": []
    },
    {
      "cell_type": "markdown",
      "source": [
        "## Brute Force Algorithm"
      ],
      "metadata": {
        "id": "aw2u9-EHB8i0"
      }
    },
    {
      "cell_type": "code",
      "source": [
        "# Problem 3\n",
        "def brute_force_cow_transport(cows,limit=10):\n",
        "    \"\"\"\n",
        "    Finds the allocation of cows that minimizes the number of spaceship trips\n",
        "    via brute force.  The brute force algorithm should follow the following method:\n",
        "\n",
        "    1. Explore all possible ways that the cows can be divided into separate trips\n",
        "        Use the given get_partitions function in ps1_partition.py to help you!\n",
        "    2. Select the allocation that minimizes the number of trips without making any trip\n",
        "        that does not obey the weight limitation\n",
        "\n",
        "    Does not mutate the given dictionary of cows.\n",
        "\n",
        "    Parameters:\n",
        "    cows - a dictionary of name (string), weight (int) pairs\n",
        "    limit - weight limit of the spaceship (an int)\n",
        "\n",
        "    Returns:\n",
        "    A list of lists, with each inner list containing the names of cows\n",
        "    transported on a particular trip and the overall list containing all the\n",
        "    trips\n",
        "    \"\"\"\n",
        "    # Initialize variables to track the best (smallest) valid partition\n",
        "    best_partition = None\n",
        "    min_trips = len(cows) # Worst case: Each cow goes alone\n",
        "\n",
        "    # Iterate over every possible partition of the cows\n",
        "    for partition in get_partitions(cows.keys()):\n",
        "      valid = True # Flag to track if this partition respects weight limits\n",
        "\n",
        "      # Check each trip (subset) in the partition\n",
        "      for trip in partition:\n",
        "          total_weight = sum(cows[cow] for cow in trip)\n",
        "          if total_weight > limit: # Trip is overweight; skip this partition\n",
        "              valid = False\n",
        "              break\n",
        "\n",
        "      # If valid and uses fewer trips, store it as the best so far\n",
        "      if valid and len(partition) < min_trips:\n",
        "          best_partition = partition\n",
        "          min_trips = len(partition)\n",
        "\n",
        "    # Return the partition witht he fewest valid trips\n",
        "    return best_partition"
      ],
      "metadata": {
        "id": "Ij1_7H0Pzo5b"
      },
      "execution_count": 41,
      "outputs": []
    },
    {
      "cell_type": "markdown",
      "source": [
        "### Partition Function"
      ],
      "metadata": {
        "id": "KyInMlfRBrBP"
      }
    },
    {
      "cell_type": "code",
      "source": [
        "# From codereview.stackexchange.com\n",
        "def partitions(set_):\n",
        "  \"\"\"\n",
        "  Generates all unique partitions of a set using binary combinations.\n",
        "\n",
        "  Each partitions splits the inplut set into one subset and recursively\n",
        "  partitions the remaining items.\n",
        "\n",
        "  Avoids mirrored duplicated by only iterating through half of the 2**n possible\n",
        "  combinations.\n",
        "\n",
        "  Parameters: set_: a set of items (i.e., cow names) to partition.\n",
        "\n",
        "  Yields:\n",
        "    generator: A generator of partitions, where each partition is a list of\n",
        "    disjoint sets.\n",
        "  \"\"\"\n",
        "  # Base case: if the set is empty, yield an empty partition\n",
        "  if not set_:\n",
        "    yield []\n",
        "    return\n",
        "\n",
        "  # Iterate through half of all binary combinations (to avoid duplicates)\n",
        "  for i in range(2**len(set_)//2):\n",
        "    parts = [set(), set()] # Initialize two empty subsets\n",
        "\n",
        "    # Use bitwise logic to assign each item to one of the two subsets\n",
        "    for item in set_:\n",
        "        parts[i&1].add(item) # Add item to parts [0] if bit is 0, or parts[1] if bit is 1\n",
        "        i >>= 1 # Shifts bits right to read the next decision (like floor division //2)\n",
        "\n",
        "    # Recursively partition the second subset\n",
        "    for b in partitions(parts[1]):\n",
        "      # Yield the full partition: current first subset + all partitions of the second\n",
        "        yield [parts[0]]+b\n",
        "\n",
        "def get_partitions(set_):\n",
        "  \"\"\"\n",
        "  Converts each set-based partition into a list-of-lists format.\n",
        "\n",
        "  Parameters:\n",
        "    set_ (list or set): A collection of items to partition.\n",
        "\n",
        "  Yields:\n",
        "    generator: A generator of partitions, where each partition is a list of lists.\n",
        "  \"\"\"\n",
        "  # Loop through each partition generated by the partitions() generator\n",
        "  for partition in partitions(set_):\n",
        "      # Convert each set in the partition to a list (for consistency/flexibility)\n",
        "      yield [list(elt) for elt in partition]"
      ],
      "metadata": {
        "id": "x736xV01ys4c"
      },
      "execution_count": 40,
      "outputs": []
    },
    {
      "cell_type": "markdown",
      "source": [
        "## Greedy Algorithm vs Brute Force Algorithm"
      ],
      "metadata": {
        "id": "LsWuyp2kCCYn"
      }
    },
    {
      "cell_type": "code",
      "source": [
        "# Problem 4\n",
        "from google.colab import userdata\n",
        "\n",
        "def compare_cow_transport_algorithms():\n",
        "    \"\"\"\n",
        "    Using the data from ps1_cow_data.txt and the specified weight limit, run your\n",
        "    greedy_cow_transport and brute_force_cow_transport functions here. Use the\n",
        "    default weight limits of 10 for both greedy_cow_transport and\n",
        "    brute_force_cow_transport.\n",
        "\n",
        "    Print out the number of trips returned by each method, and how long each\n",
        "    method takes to run in seconds.\n",
        "\n",
        "    Returns:\n",
        "    Does not return anything.\n",
        "    \"\"\"\n",
        "\n",
        "    # Load ps1_cow_data.txt\n",
        "    cows = load_cows(userdata.get('ps1_cow_data.txt'))\n",
        "\n",
        "    #Greedy Algorithm\n",
        "    import time # This is present because time is being looked at as a global variable. Can comment out eventually\n",
        "    start = time.time()\n",
        "    greedy_algorithm_trips = greedy_cow_transport(cows=cows, limit=10)\n",
        "    end = time.time()\n",
        "    num_of_trips = len(greedy_algorithm_trips)\n",
        "    time = end-start\n",
        "    print(f\"The number of trips returned by the Greedy Algorithm is \\\n",
        "{num_of_trips} and the algorithm took {time} secs to run.\")\n",
        "\n",
        "    #Brute Force Algorithm\n",
        "    import time\n",
        "    start = time.time()\n",
        "    brute_force_algorithm_trips = brute_force_cow_transport(cows=cows, limit=10)\n",
        "    end = time.time()\n",
        "    num_of_trips = len(brute_force_algorithm_trips)\n",
        "    time = end-start\n",
        "    print(f\"The number of trips returned by the Brute Force Algorithm is \\\n",
        "{num_of_trips} and the algorithm took {time} secs to run.\")\n",
        "\n",
        "compare_cow_transport_algorithms()\n"
      ],
      "metadata": {
        "colab": {
          "base_uri": "https://localhost:8080/"
        },
        "id": "xZ46M1BdkT9L",
        "outputId": "e7e5e832-bfa1-4621-80f0-a7934ff62753"
      },
      "execution_count": 50,
      "outputs": [
        {
          "output_type": "stream",
          "name": "stdout",
          "text": [
            "The number of trips returned by the Greedy Algorithm is 6 and the algorithm took 4.220008850097656e-05 secs to run.\n",
            "The number of trips returned by the Brute Force Algorithm is 5 and the algorithm took 0.496523380279541 secs to run.\n"
          ]
        }
      ]
    },
    {
      "cell_type": "markdown",
      "source": [
        "### Summary"
      ],
      "metadata": {
        "id": "FeFgj5xMCIou"
      }
    },
    {
      "cell_type": "markdown",
      "source": [
        "#### What were youre results from `compare_cow_transport_algorithms`? Which algorithm runs faster? Why?\n",
        "\n",
        "\n",
        "> The number of trips returned by the Greedy Algorithm is **6** and the algorithm took **5.340576171875e-05 seconds** to run.\n",
        "\n",
        "> The number of trips returned by the Brute Force Algorithm is **5** and the algorithm took **0.5293562412261963 seconds** to run.\n",
        "\n",
        "\n",
        "\n",
        "*   The **Greedy Algorithm** ran significantly faster.\n",
        "*   The Greedy Algorithm does not sort through all possible combination of cows like the Brute Force Algorithm did. It takes a sorted group of cows by weight, fills the container until it reaches the weight limit, and continues with a new trip.    \n",
        "*   It runs like an efficient packing line: fast and direct, but not necessarily optimal\n"
      ],
      "metadata": {
        "id": "2EM2zxlGpCDn"
      }
    },
    {
      "cell_type": "markdown",
      "source": [
        "#### Does the greedy algorithm return the optimal solution? Why or why not?\n",
        "\n",
        "*   **No**, It did not return the optimal solution.\n",
        "*   The greedy algorithm used 6 trips while Brute Force found a better solution in 5 trips.\n",
        "*   the reason why is because the Greedy Algorithm takes a **heuristic approach**.  It picks the heaviest cow that fits without considering how combinations of smaller cows might be more efficient. It does not look ahead or revise its decisions, which gives it **speed** but also **tunnel vision**.\n"
      ],
      "metadata": {
        "id": "EHp3CZjSCb4L"
      }
    },
    {
      "cell_type": "markdown",
      "source": [
        "#### Does the brute force algorithm return the optimal solution? Why or why not?\n",
        "\n",
        "*   **Yes**, Brute Force Algorithms does return the optimal solution.\n",
        "*   It explores **all possible combos** of the cows and selects the one with the fewest trips that also satifies the weight limit.\n",
        "*   However, this comes at the cost of **performance**, especially as the number of cows increases, making it impractical for large datasets.\n",
        "\n",
        "In summary, the **Greedy Algorithm** is fast although not always optimal. The **Brute Force Algorithm** is optimal but not scalable. Each has trade-offs, and understanding them helps in choosing the right strategy for a given problem.\n",
        "\n"
      ],
      "metadata": {
        "id": "_J2OYWrdCiRA"
      }
    }
  ]
}