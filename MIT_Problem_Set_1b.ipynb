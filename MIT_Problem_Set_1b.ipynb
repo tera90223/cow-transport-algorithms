{
  "nbformat": 4,
  "nbformat_minor": 0,
  "metadata": {
    "colab": {
      "provenance": [],
      "toc_visible": true,
      "authorship_tag": "ABX9TyPCRFwH8dn83KD9OR6kQBbP",
      "include_colab_link": true
    },
    "kernelspec": {
      "name": "python3",
      "display_name": "Python 3"
    },
    "language_info": {
      "name": "python"
    }
  },
  "cells": [
    {
      "cell_type": "markdown",
      "metadata": {
        "id": "view-in-github",
        "colab_type": "text"
      },
      "source": [
        "<a href=\"https://colab.research.google.com/github/tera90223/cow-transport-algorithms/blob/main/MIT_Problem_Set_1b.ipynb\" target=\"_parent\"><img src=\"https://colab.research.google.com/assets/colab-badge.svg\" alt=\"Open In Colab\"/></a>"
      ]
    },
    {
      "cell_type": "markdown",
      "source": [
        "# Problem Set 1b: Golden Eggs"
      ],
      "metadata": {
        "id": "A_5NCGGGSDPq"
      }
    },
    {
      "cell_type": "code",
      "source": [
        "# Mount Google Drive to access problem set\n",
        "from google.colab import drive\n",
        "drive.mount('/content/drive')"
      ],
      "metadata": {
        "colab": {
          "base_uri": "https://localhost:8080/"
        },
        "id": "VDwC-PbScLyl",
        "outputId": "5e0ab695-aee5-498f-b095-91254cb03ef0"
      },
      "execution_count": null,
      "outputs": [
        {
          "output_type": "stream",
          "name": "stdout",
          "text": [
            "Mounted at /content/drive\n"
          ]
        }
      ]
    },
    {
      "cell_type": "markdown",
      "source": [
        "## Dynamic Programming - Breaking Down the Problem\n",
        "\n",
        "Dynamic programming involves breaking a larger problem into smaller, simpler subproblems, solving the subproblems, and storing their solutions.\n",
        "\n",
        "*   What is the subproblems in this case?   \n",
        "    * What is the fewest number of eggs that can add to this *exact weight*, using unlimited quantities of the given weights?\n",
        "*   What values do you want to store?\n",
        "    * I want to store the **minimum** number of eggs needed to reach a given weight (from 0 up to the target weight).\n",
        "*   What is the objective function? (What are you trying to optimize for this problem? - the thing you want to **minimize** or **maximize**)\n",
        "    * I am trying to find the **minimum** number of eggs needed to reach the target weight capacity of a ship.\n",
        "*   What are the values of each item? (What each egg means to my objective?)\n",
        "    * Each egg value = 1, because using an egg costs 1 unit toward the total egg count.\n",
        "*   What is the weight limit in this case?\n",
        "    * For the example below, the target weight is 99 lbs.\n",
        "*   What is the weight of each item?\n",
        "    * For the example below, the egg weights are 1, 5, 10, and 25 lbs.\n",
        "\n",
        "\n"
      ],
      "metadata": {
        "id": "OZeziZcNYwVU"
      }
    },
    {
      "cell_type": "code",
      "source": [
        "###########################\n",
        "# 6.0002 Problem Set 1b: Space Change\n",
        "# Name: Chantera Lazard\n",
        "# Time: 10 min\n",
        "\n",
        "#================================\n",
        "# Part B: Golden Eggs\n",
        "#================================\n",
        "\n",
        "# Problem 1\n",
        "def dp_make_weight(egg_weights, target_weight, memo = {}):\n",
        "    \"\"\"\n",
        "    Find number of eggs to bring back, using the smallest number of eggs. Assumes there is\n",
        "    an infinite supply of eggs of each weight, and there is always a egg of value 1.\n",
        "\n",
        "    Parameters:\n",
        "    egg_weights - tuple of integers, available egg weights sorted from smallest to largest value (1 = d1 < d2 < ... < dk)\n",
        "    target_weight - int, amount of weight we want to find eggs to fit\n",
        "    memo - dictionary, OPTIONAL parameter for memoization (you may not need to use this parameter depending on your implementation)\n",
        "\n",
        "    Returns: int, smallest number of eggs needed to make target weight\n",
        "    \"\"\"\n",
        "    memo = {0:0}\n",
        "    for w in range(1, target_weight + 1):\n",
        "      memo[w] = min(1 + memo[w - e] for e in egg_weights if e <= w)\n",
        "\n",
        "    return memo[target_weight]\n",
        "\n",
        "# EXAMPLE TESTING CODE, feel free to add more if you'd like\n",
        "if __name__ == '__main__':\n",
        "    egg_weights = (1, 5, 10, 25)\n",
        "    n = 99\n",
        "    print(\"Egg weights = (1, 5, 10, 25)\")\n",
        "    print(\"n = 99\")\n",
        "    print(\"Expected ouput: 9 (3 * 25 + 2 * 10 + 4 * 1 = 99)\")\n",
        "    print(\"Actual output:\", dp_make_weight(egg_weights, n))\n",
        "    print()"
      ],
      "metadata": {
        "colab": {
          "base_uri": "https://localhost:8080/"
        },
        "id": "7TgXH-epcuhP",
        "outputId": "e9d5ef57-c7e4-4871-cbbd-3c79233717ef"
      },
      "execution_count": null,
      "outputs": [
        {
          "output_type": "stream",
          "name": "stdout",
          "text": [
            "Egg weights = (1, 5, 10, 25)\n",
            "n = 99\n",
            "Expected ouput: 9 (3 * 25 + 2 * 10 + 4 * 1 = 99)\n",
            "Actual output: 9\n",
            "\n"
          ]
        }
      ]
    },
    {
      "cell_type": "markdown",
      "source": [
        "## Dynamic programming - Breaking Down the Standard Algorithm\n",
        "\n",
        "```\n",
        "memo = {0:0}\n",
        "for w in range(1, target_weight + 1):\n",
        "      memo[w] = min(1 + memo[w - e] for e in egg_weights if e <= w)\n",
        "    return memo[target_weight]\n",
        "```\n",
        "\n",
        "Lets say the ```egg_weight = [1, 5, 10, 20]```, ```target_weight = 6```.\n",
        "\n",
        "```\n",
        "memo ={0:0} # weight 0 needs 0 eggs\n",
        "```\n",
        "We will fill in ```memo[1]``` to ```memo[6]```(our target weight). Dynamic programming is similar to brute force in that it considers all combinations, but it improves perfermance by storing previously computed results, a process called *memoization*.\n",
        "\n",
        "**Outer Loop**\n",
        "```\n",
        "for w in range(1, target_weight + 1): # w = 1,2,3,4,5,6\n",
        "```\n",
        "\n",
        "Every smaller weight is handled so when we reach the target weight, all ```memo[w-e]``` values already exist.\n",
        "\n",
        "**Inner Loop**\n",
        "```\n",
        "memo[w] = min(1 + memo[w - e] for e in egg_weights if e <= w)\n",
        "```\n",
        "For each egg size ```e``` that is less than or equal to *current weight* ```w```:\n",
        "1. ```w-e``` is the \"left-over\" weight after choosing that egg.\n",
        "2. ```memo[w-e]``` is the ***fewest eggs*** we already know for that smaller weight.\n",
        "3. ```+1``` counts the egg ```e``` we just picked.\n",
        "\n",
        "```min(...)``` picks the best(fewest-eggs) option.\n",
        "\n",
        "|w| eligible e| candidates (```memo[w-e]+1```) | memo[w] | explanantion |\n",
        "|-|-|-|-|-|\n",
        "|1|1|```memo[1-1]+1 = 0+1 = 1```|1|one 1-lb egg|\n",
        "|2|1|```memo[2-1]+1 = 1+1 = 1```|2|two 1-lb eggs|\n",
        "|3|1|```memo[3-1]+1 = 2+1 = 3```|3|three 1-lb eggs|\n",
        "|4|1|```memo[4-1]+1 = 3+1 = 4```|4|four one-lb eggs|\n",
        "|5|1,5|```memo[5-1]+1 = 4+1 = 5```<br> ```memo[5-5]+1 = 0+1 = 1```|1|best is one 5-lb egg|\n",
        "|6|1,5|```memo[6-1]+1 = 1+1 = 2```<br> ```memo[6-5]+1 = 1+1 = 2```|2|one 5-lb and one 1-lb eggs|\n",
        "\n",
        "So ```memo[target_weight] = 2```, meaning the minimum to reach 6 lbs is 2 eggs (5+1)."
      ],
      "metadata": {
        "id": "nRYLPBNonSpU"
      }
    },
    {
      "cell_type": "markdown",
      "source": [
        "## Summary"
      ],
      "metadata": {
        "id": "4buhmizEwyfr"
      }
    },
    {
      "cell_type": "markdown",
      "source": [
        "### Explain why it would be difficult to use a brute force algorithm to solve this problem if there were 30 different egg weights.\n",
        "\n",
        "Brute Force Algorithm do not store immediate results, so they recompute the same subproblems repeatedly.\n",
        "\n",
        "With 30 different egg weights, the number of possible combinations **grows exponentially**, and the algorithm would need to explore an enormous number of recursive branches. This makes it computationally infeasible, **especially since many subproblems overlap** and could be reused if stored.\n",
        "\n",
        "The exponential time complexity (roughly 2^n) becomes unmanageable as n (the number of weights) increases."
      ],
      "metadata": {
        "id": "tR757kiUw3TS"
      }
    },
    {
      "cell_type": "markdown",
      "source": [
        "### If you were to implement a greedy algorithm for finding the minimum number of eggs needed, what would the objective function be? What would the constraints be? What strategy would your greedy algorithm follow to pick which coins to take?\n",
        "\n",
        "*   Objective is to find the minimum number of eggs needed to make the target weight capacity of a ship.\n",
        "*   Constraints include:\n",
        "    * The total weight of selected eggs must equal the target weight\n",
        "    * Unlimited quantities of each egg weight can be used\n",
        "    * Only the available egg weights can be used\n",
        "*   Strategy\n",
        "    * Sort the egg weights in descending order\n",
        "    * Starting from the heaviest egg, count how many i can take without exceeding the target weight\n",
        "    * Keep track of the egg count as well as the current weight.\n",
        "    * Continue to the next heaviest egg and repeat the process.\n",
        "    * Continue until the total weight exactly matches the target.\n",
        "    * Return the total number of eggs used count.\n",
        "\n"
      ],
      "metadata": {
        "id": "y6Hqo8M2yQ87"
      }
    },
    {
      "cell_type": "code",
      "source": [],
      "metadata": {
        "id": "xReWdycHxy_q"
      },
      "execution_count": null,
      "outputs": []
    }
  ]
}